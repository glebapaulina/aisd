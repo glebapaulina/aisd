{
 "cells": [
  {
   "cell_type": "markdown",
   "metadata": {},
   "source": [
    "# List jednokierunkowa\n",
    "\n",
    "Lista jednokierunkowa jest sekwencją połączonych ze sobą węzłów. Każdy węzeł zawiera dane `data` oraz alias (wskaźnik) do następnego elementu listy `next`. Lista zawiera alias do pierwszego węzła `head`:\n",
    "\n",
    "<img src=\"https://www.tutorialspoint.com/data_structures_algorithms/images/dsa_linkedlist.jpg\">\n",
    "\n",
    "Pobierz pliki [my_list.py](my_list.py) i [test_list.py](test_list.py), przejrzyj kod i uruchom testy. Zobacz w jaki sposób korzystam z listy w testach."
   ]
  },
  {
   "cell_type": "markdown",
   "metadata": {},
   "source": [
    "# Zadania\n",
    "\n",
    "## Zliczanie elementów\n",
    "W klasie `LinkedList` zaimplementuj metodę `__len__`:\n",
    "\n",
    "```\n",
    "class LinkedList:\n",
    "  ...\n",
    "  def __len__(self):\n",
    "    # zwraca ilość elementów listy\n",
    "```\n",
    "\n",
    "## Zliczanie wystąpień\n",
    "\n",
    "W klasie `LinkedList` zaimplementuj metodę `count(self, data)`, która zliczy ile razy wartość `data` pojawi się w całej liście. Przykładowo:\n",
    "```\n",
    "l = LinkedList()\n",
    "l.insert(Node(10))\n",
    "l.insert(Node(20))\n",
    "l.insert(Node(30))\n",
    "l.insert(Node(20))\n",
    "assert l.count(20) == 2\n",
    "```\n",
    "\n",
    "## Wstawianie na końcu\n",
    "Do klasy `LinkedList` dodaj metodę `append`, która doda element na koniec listy. Napisz testy jednostkowe.\n",
    "\n",
    "## Wstawianie za wskazanym węzłem\n",
    "Do klasy `LinkedList` dodaj metodę `insert_after(new_node, node)`, która doda element `new_node` zaraz za węzłem `node`, który jest już na liście. Napisz testy jednostkowe.\n",
    "\n",
    "## Wstawianie sortujące\n",
    "Do klasy `LinkedList` dodaj metodę `insert_sorted(node)`, która doda element do już posortowanej listy w taki sposób aby lista była dalej posortowana. Napisz testy jednostkowe.\n",
    "\n",
    "## Łączenie list\n",
    "Do klasy `LinkedList` dodaj metodę `join(other_list)`, która do istniejącej listy dołączy elementy z drugiej listy `other_list`. Po wykonaniu operacji, druga lista nie powinna mieć elementów.\n",
    "\n",
    "## Odwracanie\n",
    "Do klasy `LinkedList` dodaj metodę `reverse()`, która odwróci kolejność elementów listy.\n",
    "\n"
   ]
  },
  {
   "cell_type": "code",
   "execution_count": null,
   "metadata": {
    "collapsed": true
   },
   "outputs": [],
   "source": []
  }
 ],
 "metadata": {
  "kernelspec": {
   "display_name": "Python 3",
   "language": "python",
   "name": "python3"
  },
  "language_info": {
   "codemirror_mode": {
    "name": "ipython",
    "version": 3
   },
   "file_extension": ".py",
   "mimetype": "text/x-python",
   "name": "python",
   "nbconvert_exporter": "python",
   "pygments_lexer": "ipython3",
   "version": "3.5.2"
  }
 },
 "nbformat": 4,
 "nbformat_minor": 1
}
