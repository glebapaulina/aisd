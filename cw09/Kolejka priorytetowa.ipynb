{
 "cells": [
  {
   "cell_type": "markdown",
   "metadata": {},
   "source": [
    "# Kolejka priorytetowa\n",
    "\n",
    "Kolejka priorytetowa (ang. *priority queue*), podobnie jak kolejka FIFO, jest jedną z podstawowych abstrakcyjnych struktur danych. Umożliwia ona dodawania elementów, jak również ich wyciąganie z tym, że elementy opuszczają kolejkę wg. priorytetu powiązanego z samym elementem. Rozróżniamy 2 rodzaje kolejek:\n",
    "\n",
    "- koleka typu min: elementy o niskim priorytecie opuszczą kolejkę przed elementami o wysokim priorytecie. \n",
    "- koleka typu max: elementy o wysokim priorytecie opuszczą kolejkę wcześniej niż elementy o niskim priorytecie. \n",
    "\n",
    "W sytuacji gdy elementy mają ten sam priorytet, to opuszczą kolejkę wg. reguły FIFO. Operacje elementarne kolejki priorytetowej są takie same jak w przypadku kolejki FIFO.\n",
    "\n",
    "## Naiwna reprezentacja\n",
    "\n",
    "W naiwnej reprezentacji elementy kolejki przetrzymywać będziemy w liście pythonowej, a po dodaniu nowego elementu (`enqueue`) posortujemy całą listę. Pozostałe operacje elementarne nie zmienią się (patrz ćw. 6)."
   ]
  },
  {
   "cell_type": "code",
   "execution_count": 1,
   "metadata": {
    "collapsed": false
   },
   "outputs": [
    {
     "name": "stdout",
     "output_type": "stream",
     "text": [
      "1\n",
      "10\n"
     ]
    }
   ],
   "source": [
    "class NaiveMinPriorityQueue:\n",
    "    def __init__(self):\n",
    "        self.data = []\n",
    "    \n",
    "    def enqueue(self, x):\n",
    "        self.data.append(x)\n",
    "        self.data.sort()\n",
    "        \n",
    "    def dequeue(self):\n",
    "        x = self.data[0]\n",
    "        self.data = self.data[1:]\n",
    "        return x\n",
    "    \n",
    "    def __len__(self):\n",
    "        return len(self.data)\n",
    "    \n",
    "    \n",
    "q = NaiveMinPriorityQueue()\n",
    "q.enqueue(10)\n",
    "q.enqueue(1)\n",
    "q.enqueue(13)\n",
    "print(q.dequeue())\n",
    "print(q.dequeue())"
   ]
  },
  {
   "cell_type": "markdown",
   "metadata": {},
   "source": [
    "Na podstawie powyższej kolejki stwórz kolejkę typu max. Następnie stwórz nowy typ kolejki priorytetowej, której będzie można przekazać funkcję porównującą. Skorzystaj z poniższej podpowiedzi oraz z [dokumentacji](https://docs.python.org/3.6/howto/sorting.html):"
   ]
  },
  {
   "cell_type": "code",
   "execution_count": 2,
   "metadata": {
    "collapsed": false
   },
   "outputs": [
    {
     "name": "stdout",
     "output_type": "stream",
     "text": [
      "[('Adam', 'Kowalski', 24), ('Bartek', 'Adamski', 10), ('Zygmunt', 'Kowalski', 26)]\n",
      "[('Bartek', 'Adamski', 10), ('Zygmunt', 'Kowalski', 26), ('Adam', 'Kowalski', 24)]\n",
      "[('Bartek', 'Adamski', 10), ('Adam', 'Kowalski', 24), ('Zygmunt', 'Kowalski', 26)]\n",
      "[('Zygmunt', 'Kowalski', 26), ('Adam', 'Kowalski', 24), ('Bartek', 'Adamski', 10)]\n"
     ]
    }
   ],
   "source": [
    "from operator import itemgetter\n",
    "\n",
    "studenci = [('Zygmunt', 'Kowalski', 26), ('Adam', 'Kowalski', 24), ('Bartek', 'Adamski', 10)]\n",
    "\n",
    "# sortowanie po pierwszym polu krotki\n",
    "print(sorted(studenci))\n",
    "\n",
    "# sortowanie po nazwisku (sortowanie stabline)\n",
    "print(sorted(studenci, key=itemgetter(1)))\n",
    "\n",
    "# sortowanie po nazwisku, a następnie po imieniu\n",
    "print(sorted(studenci, key=itemgetter(1,0)))\n",
    "\n",
    "# j.w. ale w odwrotnej kolejnosci\n",
    "print(sorted(studenci, key=itemgetter(1,0), reverse=True))\n"
   ]
  },
  {
   "cell_type": "markdown",
   "metadata": {},
   "source": [
    "Zastanów się jaką złożoność obliczeniową ma taka implementacja. Czy implementacja kolejki priorytetowej przy pomocy listy jednokierunkowej pozwoli uzyskać lepszą złożoność obliczeniową?"
   ]
  },
  {
   "cell_type": "markdown",
   "metadata": {},
   "source": [
    "Zastanów się jaką złożoność obliczeniową ma taka implementacja. Czy implementacja kolejki priorytetowej przy pomocy listy jednokierunkowej pozwoli uzyskać lepszą złożoność obliczeniową?"
   ]
  },
  {
   "cell_type": "markdown",
   "metadata": {},
   "source": [
    "## Zadanie\n",
    "\n",
    "Dany jest punkt referencyjny $x_0$ w przestrzeni 2-wymiarowej, oraz zbiór innych punktów . Twoim zadaniem jest znalezienie k najbliżych sąsiadów punktu. Poniżej znajduje się przykład sortowania punktów względem odległości od liczby 0."
   ]
  },
  {
   "cell_type": "code",
   "execution_count": 3,
   "metadata": {
    "collapsed": false
   },
   "outputs": [
    {
     "name": "stdout",
     "output_type": "stream",
     "text": [
      "[1, -2, -3, 4, -5, 6, -7]\n"
     ]
    }
   ],
   "source": [
    "def klucz(x):\n",
    "  return abs(x)\n",
    "    \n",
    "# sortowanie bez znaku\n",
    "print(sorted([-7,-5, 1,-2,-3,6,4], key=klucz))"
   ]
  },
  {
   "cell_type": "markdown",
   "metadata": {},
   "source": [
    "## Kopiec binarny\n",
    "\n",
    "Kopiec binarny jest pełnym drzewem binarnym, gdzie każdegy węzeł ma wartość większą (w przypadku kopca typu max) lub mniejszą (w przypadku kopca typu min) od wartości swoich synów. Kopiec binarny można reprezentować przy pomocy tablicy. Synami węzła *i* są elementy o indeksach:\n",
    "\n",
    "- `i*2 + 1` (lewy syn)\n",
    "- `i*2 + 2` (prawy syn)\n",
    "\n",
    "Poniżej znajduje się przykładowy kopiec typu min i jego reprezentacja tablicowa:\n",
    "\n",
    "<img src=\"http://www.algolist.net/img/binary-heap-array-mapping.png\">\n",
    "\n",
    "Zastanów się, jak wyznaczyć indeks węzła rodzica na podstawie indeksu syna."
   ]
  },
  {
   "cell_type": "markdown",
   "metadata": {},
   "source": [
    "Zaimplementuj kopiec binarny oraz jego operacje elementarne"
   ]
  },
  {
   "cell_type": "code",
   "execution_count": 4,
   "metadata": {
    "collapsed": true
   },
   "outputs": [],
   "source": [
    "class MaxHeap:\n",
    "    def __init__(self, data = []):\n",
    "        self.data = data\n",
    "    \n",
    "    def left(self,i):\n",
    "        pass\n",
    "    \n",
    "    def right(self,i):\n",
    "        pass\n",
    "    \n",
    "    def parent(self,i):\n",
    "        pass\n",
    "    \n",
    "    # zwraca True, jeżeli w każdym węźle spełniona jest własność kopca typu max\n",
    "    def is_max_heap(self):\n",
    "        pass\n",
    "    \n",
    "    def shift_up(self):\n",
    "        pass\n",
    "    \n",
    "    def shift_down(self):\n",
    "        pass\n",
    "    \n",
    "    # dodaje element do kopca\n",
    "    # https://en.wikipedia.org/wiki/Binary_heap#Insert\n",
    "    def insert(self,x):\n",
    "        i = len(self.data)\n",
    "        self.data.append(x)\n",
    "        # TODO: przywroc własność kopca dla indeksu i i jego rodziców\n",
    "    \n",
    "    # pobiera element na indeksie 0\n",
    "    # https://en.wikipedia.org/wiki/Binary_heap#Extract\n",
    "    def extract(self):\n",
    "        v = self.data[0]\n",
    "        self.data[0] = self.data.pop()\n",
    "        # TODO: przywróć własność kopca\n",
    "        return v\n",
    "    \n",
    "    # tworzy kopiec z tablicy\n",
    "    # https://en.wikipedia.org/wiki/Binary_heap#Building_a_heap\n",
    "    def build(arr):\n",
    "        this.data = arr\n",
    "        # TODO: przywróć własność kopca we wszystkich węzłach"
   ]
  }
 ],
 "metadata": {
  "kernelspec": {
   "display_name": "Python 3",
   "language": "python",
   "name": "python3"
  },
  "language_info": {
   "codemirror_mode": {
    "name": "ipython",
    "version": 3
   },
   "file_extension": ".py",
   "mimetype": "text/x-python",
   "name": "python",
   "nbconvert_exporter": "python",
   "pygments_lexer": "ipython3",
   "version": "3.5.2"
  }
 },
 "nbformat": 4,
 "nbformat_minor": 1
}
