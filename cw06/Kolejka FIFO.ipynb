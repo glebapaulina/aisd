{
 "cells": [
  {
   "cell_type": "markdown",
   "metadata": {},
   "source": [
    "# Kolejka FIFO\n",
    "\n",
    "Kolejka FIFO (first in first out) jest abstrakcyjną strukturą danych. Pełni zwykle rolę bufora, w który element dodany jako pierwszy zostanie obsłużony jako pierwszy. Do operacji elementarnych kolejki należą:\n",
    "\n",
    "- `enqueue(x)`: dodaje element `x` na koniec kolejki\n",
    "- `dequeue()`: usuwa element z początku kolejki i go zwraca\n",
    "- `is_empty()`: zwraca `True` gdy kolejka jest pusta, `False` w przeciwnym razie\n",
    "\n",
    "<img src=\"https://upload.wikimedia.org/wikipedia/commons/thumb/5/52/Data_Queue.svg/300px-Data_Queue.svg.png\">\n",
    "\n",
    "\n",
    "Pobierz pliki [my_queue.py](my_queue.py) i [test_queue.py](test_queue.py), zaimplementuj kolejkę, tak aby spełniła wszystkie testy jednostkowe.\n",
    "\n",
    "*Podpowiedź:* wykorzystaj możliwość cięcia list w Pythonie, sprawdź co robi poniższy kod:\n",
    "```\n",
    "tab = [10,20,30,40]\n",
    "tab[1:]\n",
    "tab[:-1]\n",
    "del tab[1]\n",
    "```"
   ]
  },
  {
   "cell_type": "markdown",
   "metadata": {},
   "source": [
    "# Zadania\n",
    "\n",
    "## Supermarket\n",
    "\n",
    "W sklepie jest *k* kolejek. Zasymuluj działanie sklepu przez *d* tur. W turze 0 do sklepu wchodzi *n* osób, które robią zakupy i ustawiają się w kolejkach, *i*-ta osoba staje w kolejce o numerze `i^2 mod k`. W każdej kolejnej turze kasjerzy obsługują po jednej osobie z każdej kolejki. Wypisz w jakiej kolejności klienci opuszczają sklep.\n",
    "\n",
    "*Podpowiedź:* dla uproszczenia, w pierwszej wersji przymij k=1, następnie rozbuduj problem dodatkowe kasy.\n",
    "\n",
    "Rozbuduj program tak, aby każdy klient miał w koszyku m przedmiotów (*m* > 0, *m* < *M*). Gdy klient trafi do kasy, to kasjer będzie przez *m* tur skanował jego zakupy, zanim zacznie obsługiwać następną osobę.\n",
    "\n",
    "Przykładowe wyjście z programu (dla n=4, k=3, d=2):\n",
    "```\n",
    "Tura 0:\n",
    "Klient 0 trafia do kolejki 0\n",
    "Klient 1 trafia do kolejki 1\n",
    "Klient 2 trafia do kolejki 1\n",
    "Klient 3 trafia do kolejki 0\n",
    "Tura 1:\n",
    "Klient 0 opuszcza kolejkę 0\n",
    "Klient 1 opuszcza kolejkę 1\n",
    "Tura 2:\n",
    "Klient 3 opuszcza kolejkę 0\n",
    "Klient 2 opuszcza kolejkę 1\n",
    "```\n",
    "\n",
    "## Tail\n",
    "\n",
    "Zaproponuj i zapimplementu strukturę danych, umożliwiającą przechowywanie k-ostatnio zaobserwowanych elementów. Użyj tej struktury do napisania programu umożliwiającego wyświetlenie k ostatnich linii w pliku. Załóż, że plik może być na tyle duży, że nie będzie możliwe wczytanie go w całości do pamięci.\n",
    "\n",
    "Poniżej znajduje się kod wyświetlający pierwszych 3 linii z pliki `bootstrap.log`:"
   ]
  },
  {
   "cell_type": "code",
   "execution_count": 1,
   "metadata": {
    "collapsed": false
   },
   "outputs": [
    {
     "name": "stdout",
     "output_type": "stream",
     "text": [
      "gpgv: Signature made Thu Apr 21 23:25:09 2016 UTC using DSA key ID 437D05B5\n",
      "\n",
      "gpgv: Good signature from \"Ubuntu Archive Automatic Signing Key <ftpmaster@ubuntu.com>\"\n",
      "\n",
      "gpgv: Signature made Thu Apr 21 23:25:09 2016 UTC using RSA key ID C0B21F32\n",
      "\n"
     ]
    }
   ],
   "source": [
    "read_lines = 0\n",
    "with open('bootstrap.log') as f:\n",
    "    while read_lines < 3:\n",
    "        line = f.readline()\n",
    "        print(line)\n",
    "        read_lines += 1"
   ]
  },
  {
   "cell_type": "markdown",
   "metadata": {},
   "source": [
    "## Algorytm malarski - wersja iteracyjna\n",
    "\n",
    "Poniżej znajduje się iteracyjna wersja algorytmu malarskiego z poprzednich ćwiczeń, która wykorzystuje stos do zapamietania pozycji do odwiedzenia (porównaj tą wersję z wersją rekurencyją).\n",
    "\n",
    "Zmodyfikuj program tak, aby zamiast stosu wykorzystywać kolejkę FIFO. W jaki sposób zmieni się działanie programu?"
   ]
  },
  {
   "cell_type": "code",
   "execution_count": 2,
   "metadata": {
    "collapsed": false
   },
   "outputs": [
    {
     "name": "stdout",
     "output_type": "stream",
     "text": [
      "[0, 0, 0, 0, 0, 0, 0, 0, 0, 0, 1, 0, 0, 0, 0, 0, 0, 0, 1, 0] 10\n",
      "[0, 0, 0, 0, 0, 0, 0, 0, 0, 0, 1, 1, 0, 0, 0, 0, 0, 0, 1, 0] 11\n",
      "[0, 0, 0, 0, 0, 0, 0, 0, 0, 0, 1, 1, 1, 0, 0, 0, 0, 0, 1, 0] 12\n",
      "[0, 0, 0, 0, 0, 0, 0, 0, 0, 0, 1, 1, 1, 1, 0, 0, 0, 0, 1, 0] 13\n",
      "[0, 0, 0, 0, 0, 0, 0, 0, 0, 0, 1, 1, 1, 1, 1, 0, 0, 0, 1, 0] 14\n",
      "[0, 0, 0, 0, 0, 0, 0, 0, 0, 0, 1, 1, 1, 1, 1, 1, 0, 0, 1, 0] 15\n",
      "[0, 0, 0, 0, 0, 0, 0, 0, 0, 0, 1, 1, 1, 1, 1, 1, 1, 0, 1, 0] 16\n",
      "[0, 0, 0, 0, 0, 0, 0, 0, 0, 0, 1, 1, 1, 1, 1, 1, 1, 1, 1, 0] 17\n",
      "[0, 0, 0, 0, 0, 0, 0, 0, 0, 1, 1, 1, 1, 1, 1, 1, 1, 1, 1, 0] 9\n",
      "[0, 0, 0, 0, 0, 0, 0, 0, 1, 1, 1, 1, 1, 1, 1, 1, 1, 1, 1, 0] 8\n",
      "[0, 0, 0, 0, 0, 0, 0, 1, 1, 1, 1, 1, 1, 1, 1, 1, 1, 1, 1, 0] 7\n",
      "[0, 0, 0, 0, 0, 0, 1, 1, 1, 1, 1, 1, 1, 1, 1, 1, 1, 1, 1, 0] 6\n",
      "[0, 0, 0, 0, 0, 1, 1, 1, 1, 1, 1, 1, 1, 1, 1, 1, 1, 1, 1, 0] 5\n",
      "[0, 0, 0, 0, 1, 1, 1, 1, 1, 1, 1, 1, 1, 1, 1, 1, 1, 1, 1, 0] 4\n",
      "[0, 0, 0, 1, 1, 1, 1, 1, 1, 1, 1, 1, 1, 1, 1, 1, 1, 1, 1, 0] 3\n",
      "[0, 0, 1, 1, 1, 1, 1, 1, 1, 1, 1, 1, 1, 1, 1, 1, 1, 1, 1, 0] 2\n",
      "[0, 1, 1, 1, 1, 1, 1, 1, 1, 1, 1, 1, 1, 1, 1, 1, 1, 1, 1, 0] 1\n",
      "[1, 1, 1, 1, 1, 1, 1, 1, 1, 1, 1, 1, 1, 1, 1, 1, 1, 1, 1, 0] 0\n"
     ]
    }
   ],
   "source": [
    "from my_stack import Stack\n",
    "\n",
    "def zamaluj(plansza, nr_pola):\n",
    "    stack = Stack()\n",
    "    stack.push(nr_pola)\n",
    "    \n",
    "    while not stack.is_empty():\n",
    "        nr_pola = stack.pop()\n",
    "\n",
    "        if nr_pola < 0 or nr_pola >= len(plansza):\n",
    "            # nr_pola poza plansza\n",
    "            continue\n",
    "    \n",
    "        if plansza[nr_pola]==1:\n",
    "            # po pole juz sie pali\n",
    "            continue\n",
    "    \n",
    "        plansza[nr_pola]=1\n",
    "    \n",
    "        print(plansza, nr_pola)\n",
    "    \n",
    "        stack.push(nr_pola-1)\n",
    "        stack.push(nr_pola+1)\n",
    "    \n",
    "    \n",
    "plansza = [0] * 20\n",
    "plansza[18] = 1\n",
    "zamaluj(plansza,10)"
   ]
  },
  {
   "cell_type": "markdown",
   "metadata": {},
   "source": [
    "# Implementacja kolejki z użyciem tablicy cyklicznej\n",
    "\n",
    "Implementacja kolejki z wykorzystaniem cięcia list jest nieoptymalna pod względem obliczeniowym. Usunięcie pierwszego elementu z listy w praktyce oznacza konieczność skopiowania wszystkich pozostałych elementów do nowej tablicy, co ma złożoność O(n). \n",
    "\n",
    "Twoim celem jest zaimplementowanie operacji `enqueue` i `dequeue`, które będą wykonywane w czasie O(1). Można to zrobić z użyciem [tablicy cyklicznej](https://pl.wikipedia.org/wiki/Bufor_cykliczny) z 2 pomocniczymi wskaźnikami:\n",
    "\n",
    "- head pointer (indeks pierwszego elementu kolejki)\n",
    "- tail pointer (indeks pierwszy niezajęty elementu)\n",
    "\n",
    "<img src=\"http://www.cirsovius.de/CPM/Projekte/Artikel/Programm/Queue/queue2.gif\">\n",
    "\n",
    "\n",
    "- Operacja `enqueue()` powinna wstawić do tablicy wartość na indeksie `tail`, a następnie zwiększyć ten indeks o 1 (mod n).\n",
    "- Operacja `dequeue()` powinna odczytać wartość z indeksu `head`, a następnie zwiększyć ten indeks o 1 (mod n).\n",
    "- kolejka jest pusta gdy `head == tail` (rys. a)\n",
    "- kelejka jest pełna gdy `head == tail+1 (mod n)` (rys. c)\n",
    "\n",
    "Rysunek **b** przedstawia kolejkę zawierająca kilka elementów. \n",
    "\n",
    "Dzięki takiemu podejściu, operacje `enqueue()` i `dequeue()` wymagają jedynie zwiększenia wskaźnika (jest to niezależne od ilości elementów w kolejce) i wykonują się w czasie O(1). Zaimplementuj kolejkę w powyższy sposób."
   ]
  }
 ],
 "metadata": {
  "kernelspec": {
   "display_name": "Python 3",
   "language": "python",
   "name": "python3"
  },
  "language_info": {
   "codemirror_mode": {
    "name": "ipython",
    "version": 3
   },
   "file_extension": ".py",
   "mimetype": "text/x-python",
   "name": "python",
   "nbconvert_exporter": "python",
   "pygments_lexer": "ipython3",
   "version": "3.5.2"
  }
 },
 "nbformat": 4,
 "nbformat_minor": 1
}
