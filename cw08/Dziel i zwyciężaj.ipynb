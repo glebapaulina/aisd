{
 "cells": [
  {
   "cell_type": "markdown",
   "metadata": {},
   "source": [
    "# Dziel i zwyciężaj\n",
    "\n",
    "Metoda *Dziel i zwyciężaj* (ang. divide and conquer) jest jedną z podstawowych metod projektowania algorytmów. Polega na rekurencyjnym podziale problemu na podproblemy, a następnie scalaniu wyników. Problem dzielimy na podproblemy tak długo aż będzie on na tyle mały, że jego rozwiązanie będzie trywialne.\n",
    "\n",
    "**Przykład 1:**\n",
    "\n",
    "Rozważmy problem wyznaczania maksimum w tablicy o rozmiarze *n*. Stosując metodę *dziel i zwyciężaj* możemy otrzymać następujący algorytm:\n",
    "\n",
    "1. Podziel tablicę na 2 podtablice\n",
    "2. Rekurencyjnie oblicz maksimum w każdej podtablicy\n",
    "3. Maksimum tablicy jest większa z wartości maksimum 2 podtablic\n",
    "\n",
    "Kroki 1-2 to rekurencyjny podział problemu na podproblemu, krok 3 to scalanie wyników. Przyjrzyjmy się implementacji:"
   ]
  },
  {
   "cell_type": "code",
   "execution_count": 1,
   "metadata": {
    "collapsed": false
   },
   "outputs": [
    {
     "name": "stdout",
     "output_type": "stream",
     "text": [
      "Obliczam max dla przedzialu 0 5\n",
      "Obliczam max dla przedzialu 0 2\n",
      "Obliczam max dla przedzialu 0 1\n",
      "Obliczam max dla przedzialu 0 0\n",
      "Obliczam max dla przedzialu 1 1\n",
      "Przedzial [0, 0], max1 = 5\n",
      "Przedzial [1, 1], max2 = 2\n",
      "Lacze - przedzial [0, 1], max = 5\n",
      "Obliczam max dla przedzialu 2 2\n",
      "Przedzial [0, 1], max1 = 5\n",
      "Przedzial [2, 2], max2 = 8\n",
      "Lacze - przedzial [0, 2], max = 8\n",
      "Obliczam max dla przedzialu 3 5\n",
      "Obliczam max dla przedzialu 3 4\n",
      "Obliczam max dla przedzialu 3 3\n",
      "Obliczam max dla przedzialu 4 4\n",
      "Przedzial [3, 3], max1 = 7\n",
      "Przedzial [4, 4], max2 = 2\n",
      "Lacze - przedzial [3, 4], max = 7\n",
      "Obliczam max dla przedzialu 5 5\n",
      "Przedzial [3, 4], max1 = 7\n",
      "Przedzial [5, 5], max2 = 1\n",
      "Lacze - przedzial [3, 5], max = 7\n",
      "Przedzial [0, 2], max1 = 8\n",
      "Przedzial [3, 5], max2 = 7\n",
      "Lacze - przedzial [0, 5], max = 8\n",
      "8\n"
     ]
    }
   ],
   "source": [
    "def diz_max(tab, od=0, do=None):\n",
    "    if do is None: \n",
    "        do = len(tab)-1\n",
    "        \n",
    "    print(\"Obliczam max dla przedzialu\",od, do)\n",
    "        \n",
    "    if od == do:\n",
    "        # przypadek trywialny - tablica 1 elementowa\n",
    "        return tab[od]\n",
    "        \n",
    "    srodek = (od + do) // 2\n",
    "    \n",
    "    max1 = diz_max(tab, od, srodek)\n",
    "    max2 = diz_max(tab, srodek+1, do)\n",
    "    \n",
    "    print(\"Przedzial [{1}, {2}], max1 = {0}\".format(max1, od, srodek))\n",
    "    print(\"Przedzial [{1}, {2}], max2 = {0}\".format(max2, srodek+1, do))\n",
    "    \n",
    "    if max1 > max2:\n",
    "        print(\"Lacze - przedzial [{0}, {1}], max = {2}\".format(od, do, max1))\n",
    "        return max1\n",
    "    else:\n",
    "        print(\"Lacze - przedzial [{0}, {1}], max = {2}\".format(od, do, max2))\n",
    "        return max2\n",
    "\n",
    "print(diz_max([5, 2, 8, 7, 2, 1]))\n",
    "    "
   ]
  },
  {
   "cell_type": "markdown",
   "metadata": {},
   "source": [
    "**Przykład 2:**\n",
    "\n",
    "Rozważmy problem wyznaczania zwycięzcy wśród listy osób. Dane jest *n* osób, *i*-ta osoba zdobyła $w_i$ punktów. Celem algorytmu jest wyznaczenie zwycięzcy - osoby, która zdobyła największą ilość punktów. Gdy wyniki osób zapiszemy w postaci tablicy $wyniki = [w_0, w_1, ..., w_{n-1}]$, to celem jest wyznaczenie indeksu w tablicy *wyniki* zawierającego największą wartość. Stosując metodę dziel i rządź możemy otrzymać następujący algorytm:"
   ]
  },
  {
   "cell_type": "code",
   "execution_count": 2,
   "metadata": {
    "collapsed": false
   },
   "outputs": [
    {
     "name": "stdout",
     "output_type": "stream",
     "text": [
      "2\n"
     ]
    }
   ],
   "source": [
    "def zwyciezca(wyniki, od=0, do=None):\n",
    "    if do is None: \n",
    "        do = len(wyniki)-1\n",
    "        \n",
    "    if od == do:\n",
    "        # przypadek trywialny - tablica 1 elementowa\n",
    "        return od\n",
    "        \n",
    "    srodek = (od + do) // 2\n",
    "    \n",
    "    najlepszy1 = zwyciezca(wyniki, od, srodek)\n",
    "    najlepszy2 = zwyciezca(wyniki, srodek+1, do)\n",
    "       \n",
    "    if wyniki[najlepszy1] > wyniki[najlepszy2]:\n",
    "        return najlepszy1\n",
    "    else:\n",
    "        return najlepszy2\n",
    "\n",
    "print(zwyciezca([5, 2, 8, 7, 2, 1]))"
   ]
  },
  {
   "cell_type": "markdown",
   "metadata": {},
   "source": [
    "## Wyszukiwanie binarne\n",
    "\n",
    "Napisz funkcję `wyszukiwanie_binarne(stog, igla)`, która zwraca `True` jeżeli wartość `igla` znajduje się w **posortowanej rosnąco** tablicy `stog`. Ten problem można rozwiązać przy pomocy dziel i zwyciężaj w następujący sposób.\n",
    "\n",
    "1. Znajdź wartość `srodek` srodkowego elementu tablicy `stog`\n",
    "2. Jeżeli `igla == srodek` zwróc `True`\n",
    "3. Jeżeli `igla < srodek` kontynuuj wyszukiwanie w lewej polowie tablicy, w przeciwnym razie kontynuuj wyszukiwanie w prawej połowie tablicy.\n",
    "\n",
    "Zastanów się jaką złożoność obliczeniową ma ten algorytm?"
   ]
  },
  {
   "cell_type": "markdown",
   "metadata": {},
   "source": [
    "## Sortowanie przez scalanie\n",
    "\n",
    "Problem sortowania można również rozwiązać przy pomocy *dziel i zwyciężaj* w następujący sposób:\n",
    "    \n",
    "1. Podziel rekurencyjnie tablice na 2 podtablice \n",
    "2. Złącz 2 posortowane tablice w jedną posortowaną"
   ]
  },
  {
   "cell_type": "code",
   "execution_count": 3,
   "metadata": {
    "collapsed": false
   },
   "outputs": [
    {
     "name": "stdout",
     "output_type": "stream",
     "text": [
      "[2, 3, 4, 8, 10]\n"
     ]
    }
   ],
   "source": [
    "import operator\n",
    "\n",
    "# funkcja łączy 2 posortowane tablice left i right \n",
    "# w jedną posortowaną tablicę wynikową\n",
    "def merge(left, right, compare):\n",
    "    result = []\n",
    "    i, j = 0, 0\n",
    "    while i < len(left) and j < len(right):\n",
    "        if compare(left[i], right[j]):\n",
    "            result.append(left[i])\n",
    "            i += 1\n",
    "        else:\n",
    "            result.append(right[j])\n",
    "            j += 1\n",
    "    while i < len(left):\n",
    "        result.append(left[i])\n",
    "        i += 1\n",
    "    while j < len(right):\n",
    "        result.append(right[j])\n",
    "        j += 1\n",
    "    return result\n",
    "\n",
    "def merge_sort(L, compare=operator.lt):\n",
    "    if len(L) < 2:\n",
    "        # Przpadek trywialny, tablica 1 elementowa jest posortowana\n",
    "        return L[:]\n",
    "    else:\n",
    "        middle = int(len(L)/2)\n",
    "        left = merge_sort(L[:middle], compare)\n",
    "        right = merge_sort(L[middle:], compare)\n",
    "        return merge(left, right, compare)\n",
    "    \n",
    "print(merge_sort([10,4,2,8,3]))"
   ]
  },
  {
   "cell_type": "markdown",
   "metadata": {},
   "source": [
    "Zwróć uwagę na to, że `merge_sort` umożliwia podanie własnej funkcji porównującej (domyślnie jest to funkcja `lt` czyli less than). \n",
    "\n",
    "### Sortowanie modułów liczb\n",
    "Napisz własną funkcję porównującą i zastosuj ją w `merge_sort`, tak aby posortować liczby wg. ich wartości bezwzględnych. Przykładowo tablica `[1, -5, 8, 3, -2, -4]` po posortowaniu powinna wyglądać tak: `[1, -2, 3, -4, -5, 8]`.\n",
    "\n",
    "### Sortowanie fimów\n",
    "Napisz własną funkcję porównującą do sortowania angielskojęzycznych tytułów filmów, tak żeby przy sortowaniu pomijać *The* rozpoczynające tytuł. Przykładowo filmy: `['The Road', 'The Accountant', 'Alladin', 'Bad Boys', 'Zorro', 'Terminator']` powinny zostać posortowane jako: `['The Accountant', 'Alladin', 'Bad Boys', 'The Road', 'Terminator', 'Zorro']`."
   ]
  },
  {
   "cell_type": "markdown",
   "metadata": {},
   "source": [
    "## Zmiana znaku\n",
    "\n",
    "Dana są wartości funkcji rosnącej monotonicznie. Wartość funkcji w punkcie *i* jest znana i wynosi $f[i]$. Twoim zadaniem jest najpisanie funkcji `zmiana(f)`, która zwróci punkt *i* dla którego funkcja zmienia znak, jt. $f[i] < 0, f[i+1] >= 0$. Twoja funkcja powinna mieć złożoność obliczeniową $\\theta(log n)$, gdzie $n$ to długość tablicy $f$."
   ]
  }
 ],
 "metadata": {
  "kernelspec": {
   "display_name": "Python 3",
   "language": "python",
   "name": "python3"
  },
  "language_info": {
   "codemirror_mode": {
    "name": "ipython",
    "version": 3
   },
   "file_extension": ".py",
   "mimetype": "text/x-python",
   "name": "python",
   "nbconvert_exporter": "python",
   "pygments_lexer": "ipython3",
   "version": "3.5.2"
  }
 },
 "nbformat": 4,
 "nbformat_minor": 1
}
